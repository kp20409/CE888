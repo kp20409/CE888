{
  "nbformat": 4,
  "nbformat_minor": 0,
  "metadata": {
    "colab": {
      "name": "my_recommender.ipynb",
      "provenance": [],
      "authorship_tag": "ABX9TyMG9ZhHLBypgtbr+SvnGFMB",
      "include_colab_link": true
    },
    "kernelspec": {
      "name": "python3",
      "display_name": "Python 3"
    },
    "language_info": {
      "name": "python"
    }
  },
  "cells": [
    {
      "cell_type": "markdown",
      "metadata": {
        "id": "view-in-github",
        "colab_type": "text"
      },
      "source": [
        "<a href=\"https://colab.research.google.com/github/kp20409/CE888/blob/main/LAB4/my_recommender.ipynb\" target=\"_parent\"><img src=\"https://colab.research.google.com/assets/colab-badge.svg\" alt=\"Open In Colab\"/></a>"
      ]
    },
    {
      "cell_type": "code",
      "metadata": {
        "id": "sDgL9aEpp2Q9"
      },
      "source": [
        "import pandas as pd\n",
        "import numpy as np\n",
        "from sklearn.svm import SVC\n",
        "\n",
        "import matplotlib.pyplot as plt\n",
        "np.set_printoptions(precision=3)"
      ],
      "execution_count": 2,
      "outputs": []
    },
    {
      "cell_type": "code",
      "metadata": {
        "colab": {
          "base_uri": "https://localhost:8080/"
        },
        "id": "i6JbmW9_p9Tc",
        "outputId": "7d53583c-d5b6-48da-f360-01b4da1e4650"
      },
      "source": [
        "user_ratings_df = pd.read_csv(\"https://raw.githubusercontent.com/albanda/CE888/master/lab4-recommender/jester-data-1.csv\")\n",
        "user_ratings_df.columns = list(range(user_ratings_df.shape[1]))\n",
        "\n",
        "user_ratings_df = user_ratings_df.replace(99.00, np.nan)\n",
        "user_ratings_df.drop([0], axis='columns', inplace=True)\n",
        "\n",
        "print('Rating by user 804 for joke 12: ', user_ratings_df.iloc[5702, 69])"
      ],
      "execution_count": 14,
      "outputs": [
        {
          "output_type": "stream",
          "text": [
            "Rating by user 804 for joke 12:  -6.17\n"
          ],
          "name": "stdout"
        }
      ]
    },
    {
      "cell_type": "code",
      "metadata": {
        "colab": {
          "base_uri": "https://localhost:8080/"
        },
        "id": "lSlMcRM4qTy4",
        "outputId": "8263f2f4-4df2-4039-9406-24551bb07260"
      },
      "source": [
        "#code to find best and worst jokes\n",
        "\n",
        "col_sums = []\n",
        "\n",
        "for i in range(user_ratings_df.shape[1]):\n",
        "\n",
        "  col_vals = user_ratings_df[i+1].tolist()\n",
        "  col_vals = [col_vals for col_vals in col_vals if str(col_vals) != 'nan']\n",
        "  col_vals = np.array(col_vals)\n",
        "\n",
        "  col_sums.append(col_vals.sum()/len(col_vals))\n",
        "\n",
        "minpos = col_sums.index(min(col_sums))\n",
        "maxpos = col_sums.index(max(col_sums))\n",
        "\n",
        "print(\"The worst joke is\", minpos + 1) \n",
        "print(\"The best joke is\", maxpos + 1)"
      ],
      "execution_count": 7,
      "outputs": [
        {
          "output_type": "stream",
          "text": [
            "The worst joke is 58\n",
            "The best joke is 50\n"
          ],
          "name": "stdout"
        }
      ]
    },
    {
      "cell_type": "code",
      "metadata": {
        "colab": {
          "base_uri": "https://localhost:8080/"
        },
        "id": "V_K5kSDEqylE",
        "outputId": "0b958950-7853-4794-d076-c27e4a8eb2ee"
      },
      "source": [
        "n_latent_factors = 2\n",
        "\n",
        "user_ratings = user_ratings_df.values\n",
        "\n",
        "print('User ratings shape:', user_ratings.shape)\n",
        "\n",
        "# Initialise as random values\n",
        "latent_user_preferences = np.random.random((user_ratings.shape[0], n_latent_factors))\n",
        "latent_item_features = np.random.random((user_ratings.shape[1], n_latent_factors))\n",
        "\n",
        "print('Latent user preferences shape: ', latent_user_preferences.shape)\n",
        "print('Latent user features shape', latent_item_features.shape)"
      ],
      "execution_count": 9,
      "outputs": [
        {
          "output_type": "stream",
          "text": [
            "User ratings shape: (24982, 100)\n",
            "Latent user preferences shape:  (24982, 2)\n",
            "Latent user features shape (100, 2)\n"
          ],
          "name": "stdout"
        }
      ]
    },
    {
      "cell_type": "code",
      "metadata": {
        "id": "ktGAToPOrJHa"
      },
      "source": [
        "def predict_rating(user_id, item_id):\n",
        "    \"\"\" Predict a rating given a user_id and an item_id.\n",
        "    \"\"\"\n",
        "    user_preference = latent_user_preferences[user_id]\n",
        "    item_preference = latent_item_features[item_id]\n",
        "    return user_preference.dot(item_preference)\n",
        "\n",
        "\n",
        "def train(user_id, item_id, rating, alpha=0.0001):\n",
        "    #print(item_id)\n",
        "    predicted_rating = predict_rating(user_id, item_id)\n",
        "    err =  predicted_rating - rating\n",
        "    #print(err)\n",
        "    user_pref_values = latent_user_preferences[user_id]\n",
        "    latent_user_preferences[user_id] -= alpha * err * latent_item_features[item_id]\n",
        "    latent_item_features[item_id] -= alpha * err * user_pref_values\n",
        "    return err\n",
        "    \n",
        "\n",
        "def sgd(iterations):\n",
        "    \"\"\" Iterate over all users and all items and train for \n",
        "        a certain number of iterations\n",
        "    \"\"\"\n",
        "    mse_history = []\n",
        "    for iteration in range(iterations):\n",
        "        error = []\n",
        "        for user_id in range(latent_user_preferences.shape[0]):\n",
        "            for item_id in range(latent_item_features.shape[0]):\n",
        "                rating = user_ratings[user_id, item_id]\n",
        "                if not np.isnan(rating):\n",
        "                    err = train(user_id, item_id, rating)\n",
        "                    error.append(err)\n",
        "        mse = (np.array(error) ** 2).mean()   \n",
        "        if (iteration % 2) == 0:\n",
        "            print('Iteration %d/%d:\\tMSE=%.6f' % (iteration, iterations, mse))\n",
        "            mse_history.append(mse)\n",
        "    return mse_history"
      ],
      "execution_count": 10,
      "outputs": []
    },
    {
      "cell_type": "code",
      "metadata": {
        "colab": {
          "base_uri": "https://localhost:8080/"
        },
        "id": "vHM58BpzrVZV",
        "outputId": "10b4c53e-d9e3-4c17-8120-77dedbfd3e2d"
      },
      "source": [
        "num_iter = 30\n",
        "hist = sgd(num_iter)  # Note how the MSE decreases with the number of iterations"
      ],
      "execution_count": 11,
      "outputs": [
        {
          "output_type": "stream",
          "text": [
            "Iteration 0/30:\tMSE=26.145372\n",
            "Iteration 2/30:\tMSE=24.919786\n",
            "Iteration 4/30:\tMSE=24.446809\n",
            "Iteration 6/30:\tMSE=23.963767\n",
            "Iteration 8/30:\tMSE=23.466691\n",
            "Iteration 10/30:\tMSE=22.958584\n",
            "Iteration 12/30:\tMSE=22.431681\n",
            "Iteration 14/30:\tMSE=21.860927\n",
            "Iteration 16/30:\tMSE=21.206704\n",
            "Iteration 18/30:\tMSE=20.442952\n",
            "Iteration 20/30:\tMSE=19.613725\n",
            "Iteration 22/30:\tMSE=18.849811\n",
            "Iteration 24/30:\tMSE=18.270877\n",
            "Iteration 26/30:\tMSE=17.891714\n",
            "Iteration 28/30:\tMSE=17.657024\n"
          ],
          "name": "stdout"
        }
      ]
    },
    {
      "cell_type": "code",
      "metadata": {
        "colab": {
          "base_uri": "https://localhost:8080/",
          "height": 278
        },
        "id": "wKo8R46ErdIZ",
        "outputId": "97c5e94c-8ca0-47cd-a233-971fd57d8e36"
      },
      "source": [
        "plt.figure()\n",
        "plt.plot(np.arange(0, num_iter, 2), hist)\n",
        "plt.xlabel(\"Iterations\")\n",
        "plt.ylabel(\"MSE\")\n",
        "plt.show()"
      ],
      "execution_count": 12,
      "outputs": [
        {
          "output_type": "display_data",
          "data": {
            "image/png": "[encoded data removed]",
            "text/plain": [
              "<Figure size 432x288 with 1 Axes>"
            ]
          },
          "metadata": {
            "tags": [],
            "needs_background": "light"
          }
        }
      ]
    },
    {
      "cell_type": "code",
      "metadata": {
        "colab": {
          "base_uri": "https://localhost:8080/"
        },
        "id": "ecL8wjKdrgrV",
        "outputId": "c024b742-57a5-4a7d-89a5-245b4d683e04"
      },
      "source": [
        "predictions = latent_user_preferences.dot(latent_item_features.T)\n",
        "print('Predictions shape: ', predictions.shape)"
      ],
      "execution_count": 13,
      "outputs": [
        {
          "output_type": "stream",
          "text": [
            "Predictions shape:  (24982, 100)\n"
          ],
          "name": "stdout"
        }
      ]
    },
    {
      "cell_type": "code",
      "metadata": {
        "colab": {
          "base_uri": "https://localhost:8080/"
        },
        "id": "4Y_ilLBIIBfy",
        "outputId": "67102120-eef0-4062-8dea-d23bba04dd96"
      },
      "source": [
        "print(latent_item_features)"
      ],
      "execution_count": 15,
      "outputs": [
        {
          "output_type": "stream",
          "text": [
            "[[ 4.418 -1.385]\n",
            " [ 4.83  -2.   ]\n",
            " [ 5.065 -2.572]\n",
            " [ 5.584 -5.519]\n",
            " [ 3.565 -1.056]\n",
            " [ 5.057  0.241]\n",
            " [ 3.622 -2.693]\n",
            " [ 2.417 -2.542]\n",
            " [ 5.525 -4.593]\n",
            " [ 4.59  -1.086]\n",
            " [ 4.93   0.337]\n",
            " [ 5.301  0.133]\n",
            " [ 2.925 -4.55 ]\n",
            " [ 5.317  0.092]\n",
            " [ 2.466 -4.532]\n",
            " [ 2.893 -7.032]\n",
            " [ 2.75  -2.917]\n",
            " [ 3.295 -3.129]\n",
            " [ 3.942 -1.794]\n",
            " [ 4.287 -3.648]\n",
            " [ 4.783  1.527]\n",
            " [ 5.589 -1.697]\n",
            " [ 5.474 -3.097]\n",
            " [ 5.357 -6.204]\n",
            " [ 5.518 -2.175]\n",
            " [ 5.256 -0.045]\n",
            " [ 3.535  3.83 ]\n",
            " [ 4.927  0.154]\n",
            " [ 3.366  3.643]\n",
            " [ 5.996 -4.157]\n",
            " [ 4.403  1.914]\n",
            " [ 3.567  3.752]\n",
            " [ 5.579 -5.453]\n",
            " [ 5.176 -0.799]\n",
            " [ 3.813  3.411]\n",
            " [ 3.26   3.952]\n",
            " [ 4.91  -5.381]\n",
            " [ 5.079 -0.937]\n",
            " [ 5.378 -0.625]\n",
            " [ 5.365 -1.174]\n",
            " [ 5.849 -4.137]\n",
            " [ 4.794  1.274]\n",
            " [ 5.433 -4.906]\n",
            " [ 4.549 -6.862]\n",
            " [ 5.184 -0.94 ]\n",
            " [ 4.744  0.25 ]\n",
            " [ 4.886  0.397]\n",
            " [ 4.698  0.742]\n",
            " [ 4.112  2.925]\n",
            " [ 3.187  4.621]\n",
            " [ 6.071 -4.096]\n",
            " [ 5.928 -3.015]\n",
            " [ 3.682  3.523]\n",
            " [ 4.197  2.875]\n",
            " [ 5.105 -2.344]\n",
            " [ 4.711  0.926]\n",
            " [ 4.956 -6.839]\n",
            " [ 4.427 -9.05 ]\n",
            " [ 5.743 -4.331]\n",
            " [ 4.842 -4.152]\n",
            " [ 4.514  2.223]\n",
            " [ 4.08   3.047]\n",
            " [ 5.378 -2.516]\n",
            " [ 5.281 -4.646]\n",
            " [ 4.347  2.087]\n",
            " [ 4.161  2.42 ]\n",
            " [ 5.527 -4.997]\n",
            " [ 3.971  2.636]\n",
            " [ 4.268  2.51 ]\n",
            " [ 5.374 -2.027]\n",
            " [ 3.627 -2.547]\n",
            " [ 3.87   2.818]\n",
            " [ 4.454 -0.043]\n",
            " [ 4.294 -4.385]\n",
            " [ 3.989 -2.186]\n",
            " [ 3.649  2.417]\n",
            " [ 4.271 -0.65 ]\n",
            " [ 4.47   0.741]\n",
            " [ 4.538 -1.573]\n",
            " [ 4.542  0.273]\n",
            " [ 4.106  1.075]\n",
            " [ 4.35  -0.744]\n",
            " [ 3.973  1.715]\n",
            " [ 4.471 -1.079]\n",
            " [ 4.687 -0.743]\n",
            " [ 4.002 -2.058]\n",
            " [ 3.913  1.086]\n",
            " [ 3.912  1.26 ]\n",
            " [ 3.252  4.198]\n",
            " [ 4.615 -1.429]\n",
            " [ 3.853  1.125]\n",
            " [ 4.281 -0.177]\n",
            " [ 3.904  2.07 ]\n",
            " [ 4.198 -0.799]\n",
            " [ 4.074 -0.733]\n",
            " [ 4.169  0.125]\n",
            " [ 3.89   0.518]\n",
            " [ 4.208 -0.331]\n",
            " [ 4.487 -2.405]\n",
            " [ 4.569  0.016]]\n"
          ],
          "name": "stdout"
        }
      ]
    }
  ]
}