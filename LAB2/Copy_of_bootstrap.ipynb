{
  "nbformat": 4,
  "nbformat_minor": 0,
  "metadata": {
    "colab": {
      "name": "Copy of bootstrap.ipynb",
      "provenance": [],
      "include_colab_link": true
    },
    "kernelspec": {
      "display_name": "Python 3",
      "language": "python",
      "name": "python3"
    },
    "language_info": {
      "codemirror_mode": {
        "name": "ipython",
        "version": 3
      },
      "file_extension": ".py",
      "mimetype": "text/x-python",
      "name": "python",
      "nbconvert_exporter": "python",
      "pygments_lexer": "ipython3",
      "version": "3.7.6"
    },
    "pycharm": {
      "stem_cell": {
        "cell_type": "raw",
        "metadata": {
          "collapsed": false
        },
        "source": []
      }
    }
  },
  "cells": [
    {
      "cell_type": "markdown",
      "metadata": {
        "id": "view-in-github",
        "colab_type": "text"
      },
      "source": [
        "<a href=\"https://colab.research.google.com/github/kp20409/CE888/blob/main/LAB2/Copy_of_bootstrap.ipynb\" target=\"_parent\"><img src=\"https://colab.research.google.com/assets/colab-badge.svg\" alt=\"Open In Colab\"/></a>"
      ]
    },
    {
      "cell_type": "markdown",
      "metadata": {
        "id": "nCi_99yMYIb1"
      },
      "source": [
        "In this notebook you'll create your own bootstrap function following the bootstrap algorithm (check the lecture notes!)"
      ]
    },
    {
      "cell_type": "code",
      "metadata": {
        "id": "LY5zujI2YC37",
        "pycharm": {
          "name": "#%%# Imports\n"
        }
      },
      "source": [
        "import matplotlib\n",
        "import pandas as pd\n",
        "import seaborn as sns\n",
        "import numpy as np\n",
        "\n"
      ],
      "execution_count": 2,
      "outputs": []
    },
    {
      "cell_type": "code",
      "metadata": {
        "id": "Eqkwj4SMY38t"
      },
      "source": [
        "# Load the data\n",
        "df = pd.read_csv('https://raw.githubusercontent.com/albanda/CE888/master/lab2%20-%20bootstrap/customers.csv')\n",
        "data = df.values.T[1]"
      ],
      "execution_count": 4,
      "outputs": []
    },
    {
      "cell_type": "code",
      "metadata": {
        "id": "Gxvc_bScYC4H",
        "pycharm": {
          "name": "#%%\n"
        }
      },
      "source": [
        "# Checking the notes from the lecture, create here your own bootstrap function:\n",
        "# 1. Sample from the input array x to create an array of samples of shape (n_bootstraps, sample_size)\n",
        "# Hint: Check the function random.choice() on Numpy\n",
        "# 2. Calculate and save the mean of the array (this is \"data_mean\" that is returned by the function)\n",
        "# 3. Calculate the mean from each bootstrap (i.e., row) and store it.\n",
        "# (This should be an array of n_bootstraps values)\n",
        "# 4. Calculate the lower and upper bounds for a 95% CI (hint: check the percentile function on Numpy)\n",
        "# 5. Return data_mean, and the lower and upper bounds of your interval\n",
        "\n",
        "import random\n",
        "\n",
        "def bootstrap_mean(x, sample_size, n_bootstraps):\n",
        "\t\n",
        "  sample_matrix = []\n",
        "  bootstraps_mean = []\n",
        "\n",
        "  for i in range(n_bootstraps):\n",
        "      sample = []\n",
        "\n",
        "      for i in range(sample_size):\n",
        "        sample.append(random.choice(x))\n",
        "      \n",
        "      sample_matrix.append(sample)\n",
        "      bootstraps_mean.append(np.mean(sample)) \n",
        "  \n",
        "  lower, upper = np.percentile(bootstraps_mean, [2.5, 97.5])\n",
        "  \n",
        "  return np.mean(bootstraps_mean), lower, upper\n",
        "\n",
        "\t"
      ],
      "execution_count": 13,
      "outputs": []
    },
    {
      "cell_type": "code",
      "metadata": {
        "id": "AN7sEOcMYC4P",
        "pycharm": {
          "name": "#%%\n"
        },
        "colab": {
          "base_uri": "https://localhost:8080/",
          "height": 453
        },
        "outputId": "d6248b7f-445b-47bf-a5a0-a764b0e0d260"
      },
      "source": [
        "# Call your bootstrap function and plot the results\n",
        "\n",
        "\n",
        "boots = []\n",
        "for i in range(100, 50000, 1000):\n",
        "    boot = bootstrap_mean(data, data.shape[0], i)\n",
        "    boots.append([i, boot[0], \"mean\"])\n",
        "    boots.append([i, boot[1], \"lower\"])\n",
        "    boots.append([i, boot[2], \"upper\"])\n",
        "\n",
        "df_boot = pd.DataFrame(boots, columns=['Bootstrap Iterations', 'Mean', \"Value\"])\n",
        "sns_plot = sns.lmplot(df_boot.columns[0], df_boot.columns[1], data=df_boot, fit_reg=False, hue=\"Value\")\n",
        "\n",
        "sns_plot.axes[0, 0].set_ylim(0,)\n",
        "sns_plot.axes[0, 0].set_xlim(0, 50000)\n"
      ],
      "execution_count": 14,
      "outputs": [
        {
          "output_type": "stream",
          "text": [
            "/usr/local/lib/python3.7/dist-packages/seaborn/_decorators.py:43: FutureWarning: Pass the following variables as keyword args: x, y. From version 0.12, the only valid positional argument will be `data`, and passing other arguments without an explicit keyword will result in an error or misinterpretation.\n",
            "  FutureWarning\n"
          ],
          "name": "stderr"
        },
        {
          "output_type": "execute_result",
          "data": {
            "text/plain": [
              "(0.0, 50000.0)"
            ]
          },
          "metadata": {
            "tags": []
          },
          "execution_count": 14
        },
        {
          "output_type": "display_data",
          "data": {
            "image/png": "[encoded data removed]",
            "text/plain": [
              "<Figure size 425.125x360 with 1 Axes>"
            ]
          },
          "metadata": {
            "tags": [],
            "needs_background": "light"
          }
        }
      ]
    },
    {
      "cell_type": "markdown",
      "metadata": {
        "id": "MjtP4e2_YC4V"
      },
      "source": [
        "\n",
        "Now, modify the bootstrap function you created above so that you can pass your desired confidence interval as a parameter.\n",
        "\n"
      ]
    },
    {
      "cell_type": "code",
      "metadata": {
        "id": "3K9j0FuGYhHs"
      },
      "source": [
        "def bootstrap_mean_ci(x, sample_size, n_bootstraps, ci):\n",
        "  sample_matrix = []\n",
        "  boots_mean = []\n",
        "\n",
        "  for i in range(n_bootstraps):\n",
        "      sample = []\n",
        "\n",
        "      for i in range(sample_size):\n",
        "        sample.append(random.choice(x))\n",
        "      \n",
        "      sample_matrix.append(sample)\n",
        "      boots_mean.append(np.mean(sample))\n",
        "  \n",
        "  lower_bound = ((100-ci)/2)\n",
        "  upper_bound = 100-lower_bound\n",
        "\n",
        "  lower, upper = np.percentile(boots_mean, [lower_bound, upper_bound])\n",
        "  \n",
        "  return np.mean(boots_mean), lower, upper"
      ],
      "execution_count": 15,
      "outputs": []
    },
    {
      "cell_type": "code",
      "metadata": {
        "id": "uDnjq08GYl-C",
        "colab": {
          "base_uri": "https://localhost:8080/",
          "height": 453
        },
        "outputId": "24046322-067e-4e4d-d7ed-d07c9d1e130b"
      },
      "source": [
        "boots = []\n",
        "for i in range(100, 50000, 1000):\n",
        "    boot = bootstrap_mean_ci(data, data.shape[0], i, 80)\n",
        "    boots.append([i, boot[0], \"mean\"])\n",
        "    boots.append([i, boot[1], \"lower\"])\n",
        "    boots.append([i, boot[2], \"upper\"])\n",
        "\n",
        "df_boot = pd.DataFrame(boots, columns=['Boostrap Iterations', 'Mean', \"Value\"])\n",
        "sns_plot = sns.lmplot(df_boot.columns[0], df_boot.columns[1], data=df_boot, fit_reg=False, hue=\"Value\")\n",
        "\n",
        "sns_plot.axes[0, 0].set_ylim(0,)\n",
        "sns_plot.axes[0, 0].set_xlim(0, 50000)\n",
        "\n"
      ],
      "execution_count": 16,
      "outputs": [
        {
          "output_type": "stream",
          "text": [
            "/usr/local/lib/python3.7/dist-packages/seaborn/_decorators.py:43: FutureWarning: Pass the following variables as keyword args: x, y. From version 0.12, the only valid positional argument will be `data`, and passing other arguments without an explicit keyword will result in an error or misinterpretation.\n",
            "  FutureWarning\n"
          ],
          "name": "stderr"
        },
        {
          "output_type": "execute_result",
          "data": {
            "text/plain": [
              "(0.0, 50000.0)"
            ]
          },
          "metadata": {
            "tags": []
          },
          "execution_count": 16
        },
        {
          "output_type": "display_data",
          "data": {
            "image/png": "[encoded data removed]",
            "text/plain": [
              "<Figure size 425.125x360 with 1 Axes>"
            ]
          },
          "metadata": {
            "tags": [],
            "needs_background": "light"
          }
        }
      ]
    },
    {
      "cell_type": "markdown",
      "metadata": {
        "id": "qjNgXW6wdd7r"
      },
      "source": [
        "# Vehicles dataset\n",
        "\n",
        "Now let's work on a different dataset, which is stored in the vehicles.csv file.\n"
      ]
    },
    {
      "cell_type": "code",
      "metadata": {
        "id": "avWv4ipFdpka",
        "colab": {
          "base_uri": "https://localhost:8080/",
          "height": 382
        },
        "outputId": "223f4f77-7988-4fc2-e5ca-8cc3be5ca5dd"
      },
      "source": [
        "# Load and visualise the vehicles dataset\n",
        "# To load the dataset: https://neptune.ai/blog/google-colab-dealing-with-files (check section \"Load individual files directly from GitHub\")\n",
        "import matplotlib.pyplot as plt\n",
        "\n",
        "# Note that the current and new fleets are in different columns and have different lengths, so bear this in mind when you're plotting.\n",
        "# You can create separate scatterplots for the two fleets, as you would with the histograms, \n",
        "# or plot them both in one plot (but not one against the other).\n",
        "\n",
        "# Load the data\n",
        "df = pd.read_csv('https://raw.githubusercontent.com/albanda/CE888/master/lab2%20-%20bootstrap/vehicles.csv')\n",
        "pd.set_option('display.max_rows', df.shape[0]+1)\n",
        "\n",
        "\n",
        "current_fleet = df.values.T[0]\n",
        "new_fleet = df.values.T[1]\n",
        "\n",
        "new_fleet_nan = new_fleet[np.logical_not(np.isnan(new_fleet))]\n",
        "\n",
        "fleet_id = []\n",
        "for i in range(len(current_fleet)):\n",
        "  fleet_id.append(i)\n",
        "\n",
        "fig=plt.figure()\n",
        "ax=fig.add_axes([0,0,1,1])\n",
        "ax.scatter(fleet_id, current_fleet, color='r')\n",
        "ax.scatter(fleet_id, new_fleet, color='b')\n",
        "ax.set_xlabel('Fleet ID')\n",
        "ax.set_ylabel('Performance')\n",
        "ax.set_title('scatter plot')\n",
        "plt.legend()\n",
        "plt.show()\n",
        "\n",
        "# Note: you can add more cells as needed to organise your code and your plots\n"
      ],
      "execution_count": 19,
      "outputs": [
        {
          "output_type": "stream",
          "text": [
            "No handles with labels found to put in legend.\n"
          ],
          "name": "stderr"
        },
        {
          "output_type": "display_data",
          "data": {
            "image/png": "[encoded data removed]",
            "text/plain": [
              "<Figure size 432x288 with 1 Axes>"
            ]
          },
          "metadata": {
            "tags": [],
            "needs_background": "light"
          }
        }
      ]
    },
    {
      "cell_type": "markdown",
      "metadata": {
        "id": "B5d0tXDpIEj8"
      },
      "source": [
        "## Compare the two fleets\n",
        "\n",
        "The business analysts come up a comparison algorithm that requires the upper and lower bounds for the mean in order to say which fleet is better.\n",
        "1. Calculate the mean of both samples.\n",
        "2. Using the bootstrap function that you created:\n",
        "    - Construct the 95% CI of the mean of the current fleet.\n",
        "    - Construct the 95% CI of the mean of the new fleet.\n",
        "    - Are they comparable? (i.e., is one better than the other?) -- you can do this with a permutation test (check the lecture notes!)"
      ]
    },
    {
      "cell_type": "code",
      "metadata": {
        "id": "GqhbjyKLI18n"
      },
      "source": [
        "def bootstrap_std_ci(x, sample_size, n_bootstraps, ci):\n",
        "  sample_matrix = []\n",
        "  boots_std = []\n",
        "\n",
        "  for i in range(n_bootstraps):\n",
        "      sample = []\n",
        "\n",
        "      for i in range(sample_size):\n",
        "        sample.append(random.choice(x))\n",
        "      \n",
        "      sample_matrix.append(sample)\n",
        "      boots_std.append(np.std(sample))\n",
        "\n",
        "  #print(bootstraps_mean)\n",
        "  \n",
        "\n",
        "  l_bound = ((100-ci)/2)\n",
        "  u_bound = 100-l_bound\n",
        "\n",
        "  lower, upper = np.percentile(boots_std, [l_bound, u_bound])\n",
        "  #print(np.mean(bootstraps_mean), lower, upper)\n",
        "  return np.mean(boots_std), lower, upper"
      ],
      "execution_count": 22,
      "outputs": []
    },
    {
      "cell_type": "code",
      "metadata": {
        "id": "po4mp6zRHC0m",
        "colab": {
          "base_uri": "https://localhost:8080/"
        },
        "outputId": "514a71eb-ba9b-4f67-c574-17e6bacba390"
      },
      "source": [
        "# <---INSERT YOUR CODE HERE--->\n",
        "current_fleet_mean = np.mean(current_fleet)\n",
        "new_fleet = new_fleet[np.logical_not(np.isnan(new_fleet))]\n",
        "new_fleet_mean = np.mean(new_fleet)\n",
        "print('Current Fleet Mean : ', current_fleet_mean)\n",
        "print('New Fleet Mean : ', new_fleet_mean)\n",
        "\n",
        "\n",
        "current_boot = bootstrap_mean_ci(current_fleet, current_fleet.shape[0], 10000, 80)\n",
        "new_boot = bootstrap_mean_ci(new_fleet, new_fleet.shape[0], 10000, 80)\n",
        "print('80% CI of mean of current fleet: ',current_boot)\n",
        "print('80% CI of mean of new fleet: ',new_boot)\n",
        "\n",
        "std_boot_new = bootstrap_std_ci(new_fleet, new_fleet.shape[0], 10000, 95)\n",
        "print('95% CI of std of new fleet: ',std_boot_new)\n",
        "\n",
        "std_boot_old = bootstrap_std_ci(current_fleet, current_fleet.shape[0], 10000, 99)\n",
        "print('99% CI of std of old fleet: ',std_boot_old)\n"
      ],
      "execution_count": 29,
      "outputs": [
        {
          "output_type": "stream",
          "text": [
            "Current Fleet Mean :  20.14457831325301\n",
            "New Fleet Mean :  30.481012658227847\n",
            "80% CI of mean of current fleet:  (20.144019277108438, 19.634538152610443, 20.65863453815261)\n",
            "80% CI of mean of new fleet:  (30.48184683544304, 29.594936708860764, 31.343037974683547)\n",
            "95% CI of std of new fleet:  (6.013468992186433, 5.124125833191624, 6.919086803431989)\n",
            "99% CI of std of old fleet:  (6.387271354433292, 5.616448632054605, 7.096272478444334)\n"
          ],
          "name": "stdout"
        }
      ]
    },
    {
      "cell_type": "code",
      "metadata": {
        "id": "MkxvDZG4HC0n",
        "colab": {
          "base_uri": "https://localhost:8080/"
        },
        "outputId": "bde00de1-967e-44f1-e032-93a6f44240a5"
      },
      "source": [
        "# Create your own function for a permutation test here (you will need it for the lab quiz!):\n",
        "def permut_test(sample1, sample2, n_permutations):\n",
        "\n",
        "    s1_mean = np.mean(sample1)\n",
        "    s2_mean = np.mean(sample2)\n",
        "\n",
        "    t_obs = s2_mean-s1_mean\n",
        "\n",
        "    \n",
        "    concat_array = np.concatenate((sample1, sample2))\n",
        "    score = 0\n",
        "\n",
        "    for i in range(n_permutations):\n",
        "      perm = np.random.permutation(concat_array)\n",
        "      old_array = perm[:len(sample1)]\n",
        "      new_array = perm[len(sample1):len(perm)]\n",
        "      \n",
        "\n",
        "      old_mean = np.mean(old_array)\n",
        "    \n",
        "      new_mean = np.mean(new_array)\n",
        "\n",
        "      t_perm = new_mean-old_mean\n",
        "\n",
        "      if(t_perm>t_obs):\n",
        "        score = score+1\n",
        "\n",
        "    pvalue = score/n_permutations\n",
        "\n",
        "    return pvalue\n",
        "\n",
        "print(permut_test(current_fleet, new_fleet_na, 30000))"
      ],
      "execution_count": 26,
      "outputs": [
        {
          "output_type": "stream",
          "text": [
            "0.0\n"
          ],
          "name": "stdout"
        }
      ]
    }
  ]
}