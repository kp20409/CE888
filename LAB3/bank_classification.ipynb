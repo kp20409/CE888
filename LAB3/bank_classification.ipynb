{
  "nbformat": 4,
  "nbformat_minor": 0,
  "metadata": {
    "colab": {
      "name": "bank_classification",
      "provenance": [],
      "authorship_tag": "ABX9TyPBESUqXsYgBd6ItfWByIFu",
      "include_colab_link": true
    },
    "kernelspec": {
      "name": "python3",
      "display_name": "Python 3"
    },
    "language_info": {
      "name": "python"
    }
  },
  "cells": [
    {
      "cell_type": "markdown",
      "metadata": {
        "id": "view-in-github",
        "colab_type": "text"
      },
      "source": [
        "<a href=\"https://colab.research.google.com/github/kp20409/CE888/blob/main/LAB3/bank_classification.ipynb\" target=\"_parent\"><img src=\"https://colab.research.google.com/assets/colab-badge.svg\" alt=\"Open In Colab\"/></a>"
      ]
    },
    {
      "cell_type": "code",
      "metadata": {
        "id": "AYWCtmLaUuie"
      },
      "source": [
        "import matplotlib\n",
        "import numpy as np\n",
        "import matplotlib.pyplot as plt\n",
        "import pandas as pd\n",
        "import seaborn as sns\n",
        "import itertools\n",
        "\n",
        "import sklearn\n",
        "from sklearn.tree import DecisionTreeRegressor\n",
        "from sklearn.ensemble import RandomForestClassifier, ExtraTreesClassifier\n",
        "from sklearn.model_selection import cross_val_score\n",
        "from sklearn.model_selection import train_test_split\n",
        "from sklearn.metrics import mean_squared_error as mse\n",
        "from sklearn.metrics import mean_absolute_error as mae\n",
        "from sklearn.metrics import accuracy_score as acc\n",
        "from sklearn.metrics import make_scorer, confusion_matrix\n",
        "from sklearn.dummy import DummyRegressor, DummyClassifier\n",
        "from sklearn.preprocessing import LabelEncoder"
      ],
      "execution_count": 1,
      "outputs": []
    },
    {
      "cell_type": "code",
      "metadata": {
        "colab": {
          "base_uri": "https://localhost:8080/",
          "height": 267
        },
        "id": "BkqZP6UUU8KS",
        "outputId": "eeada4a6-f2a4-471b-87be-7dca081693d4"
      },
      "source": [
        "df = pd.read_csv(\"https://raw.githubusercontent.com/albanda/CE888/master/lab3/bank-additional-full.csv\", delimiter=\";\")\n",
        "\n",
        "print('nColumns: ',len(df.columns))\n",
        "\n",
        "df[[\"education\"]] = df[[\"education\"]].apply(LabelEncoder().fit_transform)\n",
        "df[[\"month\"]] = df[[\"month\"]].apply(LabelEncoder().fit_transform)\n",
        "df[[\"day_of_week\"]] = df[[\"day_of_week\"]].apply(LabelEncoder().fit_transform)\n",
        "df[[\"poutcome\"]] = df[[\"poutcome\"]].apply(LabelEncoder().fit_transform)\n",
        "\n",
        "df[[\"y\"]] = df[[\"y\"]].apply(LabelEncoder().fit_transform)\n",
        "\n",
        "cat_features = [\"job\", \"marital\", \"default\", \"housing\", \"loan\", \"contact\"]\n",
        "df = pd.get_dummies(df, columns=cat_features)\n",
        "df = df.drop(['duration'], axis = 1)\n",
        "df['pdays'].replace(999, 0, inplace=True)\n",
        "\n",
        "\n",
        "before_drop = df.shape[0]\n",
        "\n",
        "df = df.dropna()\n",
        "after_drop = df.shape[0]\n",
        "\n",
        "print('Missing values: ', before_drop-after_drop)\n",
        "\n",
        "df.head()"
      ],
      "execution_count": 5,
      "outputs": [
        {
          "output_type": "stream",
          "text": [
            "nColumns:  21\n",
            "Missing values:  0\n"
          ],
          "name": "stdout"
        },
        {
          "output_type": "execute_result",
          "data": {
            "text/html": [
              "<div>\n",
              "<style scoped>\n",
              "    .dataframe tbody tr th:only-of-type {\n",
              "        vertical-align: middle;\n",
              "    }\n",
              "\n",
              "    .dataframe tbody tr th {\n",
              "        vertical-align: top;\n",
              "    }\n",
              "\n",
              "    .dataframe thead th {\n",
              "        text-align: right;\n",
              "    }\n",
              "</style>\n",
              "<table border=\"1\" class=\"dataframe\">\n",
              "  <thead>\n",
              "    <tr style=\"text-align: right;\">\n",
              "      <th></th>\n",
              "      <th>age</th>\n",
              "      <th>education</th>\n",
              "      <th>month</th>\n",
              "      <th>day_of_week</th>\n",
              "      <th>campaign</th>\n",
              "      <th>pdays</th>\n",
              "      <th>previous</th>\n",
              "      <th>poutcome</th>\n",
              "      <th>emp.var.rate</th>\n",
              "      <th>cons.price.idx</th>\n",
              "      <th>cons.conf.idx</th>\n",
              "      <th>euribor3m</th>\n",
              "      <th>nr.employed</th>\n",
              "      <th>y</th>\n",
              "      <th>job_admin.</th>\n",
              "      <th>job_blue-collar</th>\n",
              "      <th>job_entrepreneur</th>\n",
              "      <th>job_housemaid</th>\n",
              "      <th>job_management</th>\n",
              "      <th>job_retired</th>\n",
              "      <th>job_self-employed</th>\n",
              "      <th>job_services</th>\n",
              "      <th>job_student</th>\n",
              "      <th>job_technician</th>\n",
              "      <th>job_unemployed</th>\n",
              "      <th>job_unknown</th>\n",
              "      <th>marital_divorced</th>\n",
              "      <th>marital_married</th>\n",
              "      <th>marital_single</th>\n",
              "      <th>marital_unknown</th>\n",
              "      <th>default_no</th>\n",
              "      <th>default_unknown</th>\n",
              "      <th>default_yes</th>\n",
              "      <th>housing_no</th>\n",
              "      <th>housing_unknown</th>\n",
              "      <th>housing_yes</th>\n",
              "      <th>loan_no</th>\n",
              "      <th>loan_unknown</th>\n",
              "      <th>loan_yes</th>\n",
              "      <th>contact_cellular</th>\n",
              "      <th>contact_telephone</th>\n",
              "    </tr>\n",
              "  </thead>\n",
              "  <tbody>\n",
              "    <tr>\n",
              "      <th>0</th>\n",
              "      <td>56</td>\n",
              "      <td>0</td>\n",
              "      <td>6</td>\n",
              "      <td>1</td>\n",
              "      <td>1</td>\n",
              "      <td>0</td>\n",
              "      <td>0</td>\n",
              "      <td>1</td>\n",
              "      <td>1.1</td>\n",
              "      <td>93.994</td>\n",
              "      <td>-36.4</td>\n",
              "      <td>4.857</td>\n",
              "      <td>5191.0</td>\n",
              "      <td>0</td>\n",
              "      <td>0</td>\n",
              "      <td>0</td>\n",
              "      <td>0</td>\n",
              "      <td>1</td>\n",
              "      <td>0</td>\n",
              "      <td>0</td>\n",
              "      <td>0</td>\n",
              "      <td>0</td>\n",
              "      <td>0</td>\n",
              "      <td>0</td>\n",
              "      <td>0</td>\n",
              "      <td>0</td>\n",
              "      <td>0</td>\n",
              "      <td>1</td>\n",
              "      <td>0</td>\n",
              "      <td>0</td>\n",
              "      <td>1</td>\n",
              "      <td>0</td>\n",
              "      <td>0</td>\n",
              "      <td>1</td>\n",
              "      <td>0</td>\n",
              "      <td>0</td>\n",
              "      <td>1</td>\n",
              "      <td>0</td>\n",
              "      <td>0</td>\n",
              "      <td>0</td>\n",
              "      <td>1</td>\n",
              "    </tr>\n",
              "    <tr>\n",
              "      <th>1</th>\n",
              "      <td>57</td>\n",
              "      <td>3</td>\n",
              "      <td>6</td>\n",
              "      <td>1</td>\n",
              "      <td>1</td>\n",
              "      <td>0</td>\n",
              "      <td>0</td>\n",
              "      <td>1</td>\n",
              "      <td>1.1</td>\n",
              "      <td>93.994</td>\n",
              "      <td>-36.4</td>\n",
              "      <td>4.857</td>\n",
              "      <td>5191.0</td>\n",
              "      <td>0</td>\n",
              "      <td>0</td>\n",
              "      <td>0</td>\n",
              "      <td>0</td>\n",
              "      <td>0</td>\n",
              "      <td>0</td>\n",
              "      <td>0</td>\n",
              "      <td>0</td>\n",
              "      <td>1</td>\n",
              "      <td>0</td>\n",
              "      <td>0</td>\n",
              "      <td>0</td>\n",
              "      <td>0</td>\n",
              "      <td>0</td>\n",
              "      <td>1</td>\n",
              "      <td>0</td>\n",
              "      <td>0</td>\n",
              "      <td>0</td>\n",
              "      <td>1</td>\n",
              "      <td>0</td>\n",
              "      <td>1</td>\n",
              "      <td>0</td>\n",
              "      <td>0</td>\n",
              "      <td>1</td>\n",
              "      <td>0</td>\n",
              "      <td>0</td>\n",
              "      <td>0</td>\n",
              "      <td>1</td>\n",
              "    </tr>\n",
              "    <tr>\n",
              "      <th>2</th>\n",
              "      <td>37</td>\n",
              "      <td>3</td>\n",
              "      <td>6</td>\n",
              "      <td>1</td>\n",
              "      <td>1</td>\n",
              "      <td>0</td>\n",
              "      <td>0</td>\n",
              "      <td>1</td>\n",
              "      <td>1.1</td>\n",
              "      <td>93.994</td>\n",
              "      <td>-36.4</td>\n",
              "      <td>4.857</td>\n",
              "      <td>5191.0</td>\n",
              "      <td>0</td>\n",
              "      <td>0</td>\n",
              "      <td>0</td>\n",
              "      <td>0</td>\n",
              "      <td>0</td>\n",
              "      <td>0</td>\n",
              "      <td>0</td>\n",
              "      <td>0</td>\n",
              "      <td>1</td>\n",
              "      <td>0</td>\n",
              "      <td>0</td>\n",
              "      <td>0</td>\n",
              "      <td>0</td>\n",
              "      <td>0</td>\n",
              "      <td>1</td>\n",
              "      <td>0</td>\n",
              "      <td>0</td>\n",
              "      <td>1</td>\n",
              "      <td>0</td>\n",
              "      <td>0</td>\n",
              "      <td>0</td>\n",
              "      <td>0</td>\n",
              "      <td>1</td>\n",
              "      <td>1</td>\n",
              "      <td>0</td>\n",
              "      <td>0</td>\n",
              "      <td>0</td>\n",
              "      <td>1</td>\n",
              "    </tr>\n",
              "    <tr>\n",
              "      <th>3</th>\n",
              "      <td>40</td>\n",
              "      <td>1</td>\n",
              "      <td>6</td>\n",
              "      <td>1</td>\n",
              "      <td>1</td>\n",
              "      <td>0</td>\n",
              "      <td>0</td>\n",
              "      <td>1</td>\n",
              "      <td>1.1</td>\n",
              "      <td>93.994</td>\n",
              "      <td>-36.4</td>\n",
              "      <td>4.857</td>\n",
              "      <td>5191.0</td>\n",
              "      <td>0</td>\n",
              "      <td>1</td>\n",
              "      <td>0</td>\n",
              "      <td>0</td>\n",
              "      <td>0</td>\n",
              "      <td>0</td>\n",
              "      <td>0</td>\n",
              "      <td>0</td>\n",
              "      <td>0</td>\n",
              "      <td>0</td>\n",
              "      <td>0</td>\n",
              "      <td>0</td>\n",
              "      <td>0</td>\n",
              "      <td>0</td>\n",
              "      <td>1</td>\n",
              "      <td>0</td>\n",
              "      <td>0</td>\n",
              "      <td>1</td>\n",
              "      <td>0</td>\n",
              "      <td>0</td>\n",
              "      <td>1</td>\n",
              "      <td>0</td>\n",
              "      <td>0</td>\n",
              "      <td>1</td>\n",
              "      <td>0</td>\n",
              "      <td>0</td>\n",
              "      <td>0</td>\n",
              "      <td>1</td>\n",
              "    </tr>\n",
              "    <tr>\n",
              "      <th>4</th>\n",
              "      <td>56</td>\n",
              "      <td>3</td>\n",
              "      <td>6</td>\n",
              "      <td>1</td>\n",
              "      <td>1</td>\n",
              "      <td>0</td>\n",
              "      <td>0</td>\n",
              "      <td>1</td>\n",
              "      <td>1.1</td>\n",
              "      <td>93.994</td>\n",
              "      <td>-36.4</td>\n",
              "      <td>4.857</td>\n",
              "      <td>5191.0</td>\n",
              "      <td>0</td>\n",
              "      <td>0</td>\n",
              "      <td>0</td>\n",
              "      <td>0</td>\n",
              "      <td>0</td>\n",
              "      <td>0</td>\n",
              "      <td>0</td>\n",
              "      <td>0</td>\n",
              "      <td>1</td>\n",
              "      <td>0</td>\n",
              "      <td>0</td>\n",
              "      <td>0</td>\n",
              "      <td>0</td>\n",
              "      <td>0</td>\n",
              "      <td>1</td>\n",
              "      <td>0</td>\n",
              "      <td>0</td>\n",
              "      <td>1</td>\n",
              "      <td>0</td>\n",
              "      <td>0</td>\n",
              "      <td>1</td>\n",
              "      <td>0</td>\n",
              "      <td>0</td>\n",
              "      <td>0</td>\n",
              "      <td>0</td>\n",
              "      <td>1</td>\n",
              "      <td>0</td>\n",
              "      <td>1</td>\n",
              "    </tr>\n",
              "  </tbody>\n",
              "</table>\n",
              "</div>"
            ],
            "text/plain": [
              "   age  education  month  ...  loan_yes  contact_cellular  contact_telephone\n",
              "0   56          0      6  ...         0                 0                  1\n",
              "1   57          3      6  ...         0                 0                  1\n",
              "2   37          3      6  ...         0                 0                  1\n",
              "3   40          1      6  ...         0                 0                  1\n",
              "4   56          3      6  ...         1                 0                  1\n",
              "\n",
              "[5 rows x 41 columns]"
            ]
          },
          "metadata": {
            "tags": []
          },
          "execution_count": 5
        }
      ]
    },
    {
      "cell_type": "code",
      "metadata": {
        "colab": {
          "base_uri": "https://localhost:8080/",
          "height": 264
        },
        "id": "t1MyshuCWgse",
        "outputId": "b300aac8-c1c0-4467-b139-20c6bd8a163f"
      },
      "source": [
        "#plotting imbalance\n",
        "\n",
        "y = df.values.T[14]\n",
        "sns_plot = sns.histplot(y, kde=False)"
      ],
      "execution_count": 6,
      "outputs": [
        {
          "output_type": "display_data",
          "data": {
            "image/png": "[encoded data removed]",
            "text/plain": [
              "<Figure size 432x288 with 1 Axes>"
            ]
          },
          "metadata": {
            "tags": [],
            "needs_background": "light"
          }
        }
      ]
    },
    {
      "cell_type": "code",
      "metadata": {
        "colab": {
          "base_uri": "https://localhost:8080/"
        },
        "id": "rG9H35ndVkRT",
        "outputId": "59b5559b-26a1-4614-8fd2-32fdeb97c81c"
      },
      "source": [
        "nRows = df.shape[0]\n",
        "\n",
        "trueLabels = df[df[\"y\"] == 1]\n",
        "\n",
        "imbalance = (trueLabels.shape[0]/nRows)*100\n",
        "\n",
        "print('Imbalance: '+str(round(imbalance,2))+'%')"
      ],
      "execution_count": 7,
      "outputs": [
        {
          "output_type": "stream",
          "text": [
            "Imbalance: 11.27%\n"
          ],
          "name": "stdout"
        }
      ]
    },
    {
      "cell_type": "code",
      "metadata": {
        "colab": {
          "base_uri": "https://localhost:8080/"
        },
        "id": "zyEockX3XICA",
        "outputId": "b6ba6023-001d-4160-fc1d-dc82505fbf84"
      },
      "source": [
        "y = df[[\"y\"]].values.T[0]\n",
        "X = df.drop(['y'], axis=1)\n",
        "\n",
        "features = X.columns.values\n",
        "\n",
        "X = df.drop(['y'], axis=1).values\n",
        "\n",
        "X_train, X_test, y_train, y_test = train_test_split(X, y, test_size=0.2, random_state=50)\n",
        "\n",
        "print('Training imbalance: ', round(np.count_nonzero(y_train == 0)/len(y_train), 3)*100, '%')\n",
        "print('Test imbalance: ', round(np.count_nonzero(y_test == 0)/len(y_test), 3)*100, '%')"
      ],
      "execution_count": 24,
      "outputs": [
        {
          "output_type": "stream",
          "text": [
            "Training imbalance:  88.8 %\n",
            "Test imbalance:  88.5 %\n"
          ],
          "name": "stdout"
        }
      ]
    },
    {
      "cell_type": "code",
      "metadata": {
        "colab": {
          "base_uri": "https://localhost:8080/"
        },
        "id": "fzl8bNuhYHOk",
        "outputId": "f433f2a8-21d3-42f9-82dd-44b7e9d54644"
      },
      "source": [
        "rf_clf = RandomForestClassifier(n_estimators=200, max_depth=10, random_state=60)\n",
        "scores = cross_val_score(rf_clf, X_train, y_train, cv=10, scoring='f1')  # cross-validation\n",
        "print('RandomForestClassifier score: \\n', scores.mean())"
      ],
      "execution_count": 30,
      "outputs": [
        {
          "output_type": "stream",
          "text": [
            "RandomForestClassifier score: \n",
            " 0.3484832741947587\n"
          ],
          "name": "stdout"
        }
      ]
    },
    {
      "cell_type": "code",
      "metadata": {
        "colab": {
          "base_uri": "https://localhost:8080/"
        },
        "id": "8KDioxymYiZz",
        "outputId": "7d09b4fe-a676-4902-fa74-e84e21353151"
      },
      "source": [
        "dummy_clf = DummyClassifier(strategy='stratified')\n",
        "scores = cross_val_score(dummy_clf, X_train, y_train, cv=10, scoring='f1')  # cross-validation\n",
        "print('DummyClassifier score: \\n', scores.mean())"
      ],
      "execution_count": 23,
      "outputs": [
        {
          "output_type": "stream",
          "text": [
            "DummyClassifier score: \n",
            " 0.10962481198118605\n"
          ],
          "name": "stdout"
        }
      ]
    },
    {
      "cell_type": "code",
      "metadata": {
        "colab": {
          "base_uri": "https://localhost:8080/"
        },
        "id": "GfLp3neSY8Ic",
        "outputId": "3a40c4e4-f6c7-4f40-d592-1b6ebcdeda71"
      },
      "source": [
        "parameters = {'n_estimators':[100,500,1000], 'max_depth':[4,6,8]}\n",
        "\n",
        "from sklearn.model_selection import GridSearchCV\n",
        "\n",
        "grid_RFC = GridSearchCV(estimator=clf, param_grid = parameters, cv = 10, n_jobs=-1)\n",
        "grid_RFC.fit(X_train, y_train)\n",
        "\n",
        "print(\" Results from Grid Search \" )\n",
        "print(\"\\nBest estimator across searched params:\\n\",grid_RFC.best_estimator_)\n",
        "print(\"\\nBest score across searched params:\\n\",grid_RFC.best_score_)\n",
        "print(\"\\nBest parameters across searched params:\\n\",grid_RFC.best_params_)"
      ],
      "execution_count": 13,
      "outputs": [
        {
          "output_type": "stream",
          "text": [
            " Results from Grid Search \n",
            "\n",
            "Best estimator across searched params:\n",
            " RandomForestClassifier(bootstrap=True, ccp_alpha=0.0, class_weight=None,\n",
            "                       criterion='gini', max_depth=8, max_features='auto',\n",
            "                       max_leaf_nodes=None, max_samples=None,\n",
            "                       min_impurity_decrease=0.0, min_impurity_split=None,\n",
            "                       min_samples_leaf=1, min_samples_split=2,\n",
            "                       min_weight_fraction_leaf=0.0, n_estimators=1000,\n",
            "                       n_jobs=None, oob_score=False, random_state=None,\n",
            "                       verbose=0, warm_start=False)\n",
            "\n",
            "Best score across searched params:\n",
            " 0.9008801213960547\n",
            "\n",
            "Best parameters across searched params:\n",
            " {'max_depth': 8, 'n_estimators': 1000}\n"
          ],
          "name": "stdout"
        }
      ]
    },
    {
      "cell_type": "code",
      "metadata": {
        "colab": {
          "base_uri": "https://localhost:8080/"
        },
        "id": "tbcjvwAPbMOO",
        "outputId": "0f3b6bd4-c587-44f1-81fb-08b4cd7cafee"
      },
      "source": [
        "clf = RandomForestClassifier(bootstrap=True, ccp_alpha=0.0, class_weight=None,\n",
        "                       criterion='gini', max_depth=8, max_features='auto',\n",
        "                       max_leaf_nodes=None, max_samples=None,\n",
        "                       min_impurity_decrease=0.0, min_impurity_split=None,\n",
        "                       min_samples_leaf=1, min_samples_split=2,\n",
        "                       min_weight_fraction_leaf=0.0, n_estimators=1000,\n",
        "                       n_jobs=None, oob_score=False, random_state=None,\n",
        "                       verbose=0, warm_start=False)\n",
        "\n",
        "clf.fit(X_train, y_train)\n",
        "y_pred = clf.predict(X_test)\n",
        "\n",
        "from sklearn.metrics import classification_report\n",
        "cf=classification_report(y_test,y_pred)\n",
        "print(cf)\n"
      ],
      "execution_count": 14,
      "outputs": [
        {
          "output_type": "stream",
          "text": [
            "              precision    recall  f1-score   support\n",
            "\n",
            "           0       0.91      0.98      0.94      7288\n",
            "           1       0.64      0.21      0.32       950\n",
            "\n",
            "    accuracy                           0.90      8238\n",
            "   macro avg       0.77      0.60      0.63      8238\n",
            "weighted avg       0.87      0.90      0.87      8238\n",
            "\n"
          ],
          "name": "stdout"
        }
      ]
    },
    {
      "cell_type": "code",
      "metadata": {
        "colab": {
          "base_uri": "https://localhost:8080/",
          "height": 1000
        },
        "id": "0Sv006qrbm3e",
        "outputId": "7d133003-aff9-4221-d3cd-621777bc8953"
      },
      "source": [
        "rf_clf.fit(X_train, y_train)\n",
        "importances = rf_clf.feature_importances_\n",
        "\n",
        "std = np.std([tree.feature_importances_ for tree in rf_clf.estimators_], axis=0)\n",
        "indices = np.argsort(importances)[::-1]\n",
        "print(\"Feature ranking:\")\n",
        "\n",
        "for f in range(X.shape[1]):\n",
        "  print(\"%d. %s (%f)\" % (f + 1, features[indices[f]], importances[indices[f]]))\n",
        "\n",
        "# Plot the feature importances of the forest\n",
        "fig = plt.figure()\n",
        "plt.title(\"Feature importances\")\n",
        "plt.bar(range(X.shape[1]), importances[indices], color=\"r\", yerr=std[indices], align=\"center\")\n",
        "plt.xticks(range(X.shape[1]), np.array(features)[indices], rotation='vertical')\n",
        "plt.xlim([-1, X.shape[1]])\n",
        "fig.set_size_inches(15, 8)\n",
        "axes = plt.gca()\n",
        "axes.set_ylim([0, None])"
      ],
      "execution_count": 32,
      "outputs": [
        {
          "output_type": "stream",
          "text": [
            "Feature ranking:\n",
            "1. nr.employed (0.180136)\n",
            "2. euribor3m (0.158356)\n",
            "3. pdays (0.096886)\n",
            "4. poutcome (0.090437)\n",
            "5. emp.var.rate (0.065934)\n",
            "6. cons.conf.idx (0.054522)\n",
            "7. cons.price.idx (0.054199)\n",
            "8. age (0.052593)\n",
            "9. month (0.035749)\n",
            "10. previous (0.028899)\n",
            "11. day_of_week (0.022123)\n",
            "12. campaign (0.021873)\n",
            "13. education (0.020390)\n",
            "14. contact_telephone (0.013035)\n",
            "15. contact_cellular (0.011200)\n",
            "16. housing_no (0.005895)\n",
            "17. housing_yes (0.005868)\n",
            "18. marital_single (0.005476)\n",
            "19. job_retired (0.005266)\n",
            "20. job_admin. (0.005256)\n",
            "21. job_student (0.005235)\n",
            "22. loan_no (0.005153)\n",
            "23. marital_married (0.005114)\n",
            "24. loan_yes (0.004956)\n",
            "25. job_blue-collar (0.004940)\n",
            "26. default_unknown (0.004910)\n",
            "27. default_no (0.004878)\n",
            "28. job_technician (0.004487)\n",
            "29. marital_divorced (0.003845)\n",
            "30. job_management (0.003241)\n",
            "31. job_services (0.003111)\n",
            "32. job_self-employed (0.002678)\n",
            "33. job_housemaid (0.002389)\n",
            "34. housing_unknown (0.002296)\n",
            "35. job_unemployed (0.002248)\n",
            "36. loan_unknown (0.002119)\n",
            "37. job_unknown (0.001897)\n",
            "38. job_entrepreneur (0.001895)\n",
            "39. marital_unknown (0.000514)\n",
            "40. default_yes (0.000000)\n"
          ],
          "name": "stdout"
        },
        {
          "output_type": "execute_result",
          "data": {
            "text/plain": [
              "(0.0, 0.3823184541380987)"
            ]
          },
          "metadata": {
            "tags": []
          },
          "execution_count": 32
        },
        {
          "output_type": "display_data",
          "data": {
            "image/png": "[encoded data removed]",
            "text/plain": [
              "<Figure size 1080x576 with 1 Axes>"
            ]
          },
          "metadata": {
            "tags": [],
            "needs_background": "light"
          }
        }
      ]
    },
    {
      "cell_type": "code",
      "metadata": {
        "colab": {
          "base_uri": "https://localhost:8080/"
        },
        "id": "lMv1t5FIbw02",
        "outputId": "6f4efdb1-c4b0-4d61-c1e4-170fdc898448"
      },
      "source": [
        "scores = cross_val_score(clf, X_test, y_test, cv=10, scoring='accuracy')  # cross-validation\n",
        "print(scores.mean())"
      ],
      "execution_count": 19,
      "outputs": [
        {
          "output_type": "stream",
          "text": [
            "0.894512882067737\n"
          ],
          "name": "stdout"
        }
      ]
    }
  ]
}